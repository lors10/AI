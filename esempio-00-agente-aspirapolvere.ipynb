{
 "cells": [
  {
   "metadata": {},
   "cell_type": "markdown",
   "source": [
    "Agente (reattivo semplice) aspirapolvere con due sole posizioni:\n",
    "- ogni posizione può essere pulita o sporca: ('Pulita', 'Sporca')\n",
    "- l'agente può andare a sinistra o destra e può pulire il riquadro in cui si trova: ('Destra', 'Sinistra')\n",
    "\n",
    "Step 1:\n",
    "Prima di tutto definimao l'ambiente in cui l'agente si muove. L'ambiente ha due posizioni (A e B) e ogni posizione può essere pulita o sporca (Pulita e Sporca)\n",
    "\n",
    "Step 2:\n",
    "L'agente seguirà il seguente pseudocodice in cui se la posizione corrente è sporca, l'agente pulisce, altrimenti si sposta.\n",
    "\n",
    "**function** AGENTE-REATTIVO-ASPIRAPOLVERE([*posizione,stato*]) **returns** un'azione\n",
    "    \n",
    " **if** *stato* = *Sporco* **then return** *Aspira* <br>\n",
    " **else if** *posizione* = *A* **then return** *Destra* <br>\n",
    " **else if** *posizione* = *B* **then return** *Sinistra*"
   ],
   "id": "5e0e15b996c334c"
  },
  {
   "metadata": {
    "ExecuteTime": {
     "end_time": "2024-09-26T13:35:16.624430Z",
     "start_time": "2024-09-26T13:35:16.614269Z"
    }
   },
   "cell_type": "code",
   "source": [
    "# definiszione di ambiente e lo stato iniziale in cui posizione A e B sono sporche\n",
    "\n",
    "class Environment:\n",
    "    def __init__(self):\n",
    "        # inizializzazione posizioni A e B come \"Sporche\"\n",
    "        self.location_status = {'A': 'Sporco', 'B': 'Sporco'}\n",
    "        \n",
    "# definizione dell'agente reattivo semplice\n",
    "class ReactiveAgentVacuum:\n",
    "    def __init__(self):\n",
    "        self.rules = {\n",
    "            ('A', 'Sporco'): 'Aspira',\n",
    "            ('A', 'Pulito'): 'Destra',\n",
    "            ('B', 'Sporco'): 'Aspira',\n",
    "            ('B', 'Pulito'): 'Sinistra'\n",
    "        }\n",
    "        \n",
    "    # funzione per interpretare percezione e restituire un'azione\n",
    "    def interpret_input(self, perception):\n",
    "        position, status = perception\n",
    "        return self.rules.get((position,status), None)\n",
    "    \n",
    "# funzione principale per simulare l'agente\n",
    "def run_vacuum_agent():\n",
    "    # inizializzazione ambiente e agente\n",
    "    env = Environment()\n",
    "    agent = ReactiveAgentVacuum()\n",
    "    \n",
    "    # posizione iniziale dell'agente\n",
    "    position = 'A'\n",
    "    \n",
    "    ## posizione di partenza random\n",
    "    ## controllo iniziale dell'agente per verificare se l'ambiente è pulito\n",
    "    \n",
    "    while env.location_status['A'] == 'Sporco' or env.location_status['B'] == 'Sporco':\n",
    "        # percezione corrente\n",
    "        perception = (position, env.location_status[position])\n",
    "        print(f\"Agente è in {position}, lo stato è {env.location_status[position]}\")\n",
    "        \n",
    "        # azione dll'agente reattivo\n",
    "        action = agent.interpret_input(perception)\n",
    "        \n",
    "        # esegui l'azione\n",
    "        if action == 'Aspira':\n",
    "            print(\"Azione: Aspirare\")\n",
    "            env.location_status[position] = 'Pulito'\n",
    "        elif action == \"Destra\":\n",
    "            print(\"Azione: Muoversi a destra\")\n",
    "            position = 'B'\n",
    "        elif action == \"Sinistra\":\n",
    "            print(\"Azione: Muoversi a sinistra\")\n",
    "            position = 'A'\n",
    "            \n",
    "        print(f\"Stato aggiornato dell'ambiente: {env.location_status}\")\n",
    "        \n",
    "    print(\"Tutte le posizioni sono pulite, l'agente si ferma\")\n",
    "    \n",
    "\n",
    "# esegui simulazione\n",
    "run_vacuum_agent()"
   ],
   "id": "3bbdc6577e87765d",
   "outputs": [
    {
     "name": "stdout",
     "output_type": "stream",
     "text": [
      "Agente è in A, lo stato è Sporco\n",
      "Azione: Aspirare\n",
      "Stato aggiornato dell'ambiente: {'A': 'Pulito', 'B': 'Sporco'}\n",
      "Agente è in A, lo stato è Pulito\n",
      "Azione: Muoversi a destra\n",
      "Stato aggiornato dell'ambiente: {'A': 'Pulito', 'B': 'Sporco'}\n",
      "Agente è in B, lo stato è Sporco\n",
      "Azione: Aspirare\n",
      "Stato aggiornato dell'ambiente: {'A': 'Pulito', 'B': 'Pulito'}\n",
      "Tutte le posizioni sono pulite, l'agente si ferma\n"
     ]
    }
   ],
   "execution_count": 4
  },
  {
   "metadata": {
    "ExecuteTime": {
     "end_time": "2024-09-26T13:35:16.648158Z",
     "start_time": "2024-09-26T13:35:16.634434Z"
    }
   },
   "cell_type": "code",
   "source": "",
   "id": "23993c020df1237b",
   "outputs": [],
   "execution_count": 4
  },
  {
   "metadata": {},
   "cell_type": "markdown",
   "source": [
    "Ora cerchiamo di implementare l'agente aspirapolvere in modo da includere le caratteristiche dell'algoritmo **State Space Search**.\n",
    "\n",
    "include problem <br>\n",
    "include SetofStates <br>\n",
    "path Search (state s0){ <br>\n",
    "&emsp; SetOfStates horizon={s0}, explored=Æ; <br>\n",
    "&emsp; /*horizon are states that can be reached from s0; <br>\n",
    "&emsp; state view; <br>\n",
    "&emsp;&emsp; while (horizon != Æ ) { <br>\n",
    "&emsp;&emsp; if final((view=pick(horizon))) return(backpath(view)); <br>\n",
    "&emsp;&emsp; explored=+ view; <br>\n",
    "&emsp;&emsp; horizon=+ (neighbors(view) - explored); <br>\n",
    "&emsp;&emsp; } <br>\n",
    "&emsp; return(no solution); <br>\n",
    "} <br>\n",
    "\n",
    "**Adattamento algoritmo di State Space Search:**\n",
    "\n",
    "- **insieme stati esplorati (explored)**: che tiene traccia delle posizioni e dello stato dell'ambiente che l'agente ha già visitato;\n",
    "- **insieme stati da esplorare(horizon)**: lista degli stati che l'agente deve ancora esplorare;\n",
    "- **azioni e transizioni**: ogni azione comporta una transizione da uno stato all'altro;\n"
   ],
   "id": "dd42678064ab16cf"
  },
  {
   "metadata": {
    "ExecuteTime": {
     "end_time": "2024-09-26T14:01:04.750002Z",
     "start_time": "2024-09-26T14:01:04.727362Z"
    }
   },
   "cell_type": "code",
   "source": [
    "class Environment:\n",
    "    def __init__(self):\n",
    "        # inizializzazione posizioni A e B come sporche\n",
    "        self.location_status = {'A': 'Sporco', 'B': 'Sporco'}\n",
    "        \n",
    "    # percezione corrente dell'ambiente\n",
    "    def get_perception(self, position):\n",
    "        return position,self.location_status[position]\n",
    "    \n",
    "# Agente basato su state space search\n",
    "class ReactiveAgentVacuum:\n",
    "    def __init__(self):\n",
    "        # regola = stato: regole\n",
    "        self.rules = {\n",
    "            ('A', 'Sporco'): 'Aspira',\n",
    "            ('A', 'Pulito'): 'Destra',\n",
    "            ('B', 'Sporco'): 'Aspira',\n",
    "            ('B', 'Pulito'): 'Sinistra'\n",
    "        }\n",
    "        \n",
    "    def interpret_input(self, perception):\n",
    "        position, status = perception\n",
    "        return self.rules.get((position, status), None)\n",
    "    \n",
    "    def search(self, initial_state, environment):\n",
    "        # inizializzazione horizon e explored\n",
    "        horizon = [initial_state]\n",
    "        explored = set()\n",
    "        \n",
    "        while horizon:\n",
    "            # seleziona stato da horizon\n",
    "            current_state = horizon.pop(0)  # estrae il primo elemento\n",
    "            position, _ = current_state\n",
    "            \n",
    "            # percepisce ambiente della posizione corrente\n",
    "            perception = environment.get_perception(position)\n",
    "            action = self.interpret_input(perception)\n",
    "            \n",
    "            print(f\"Agente è in {position}, lo stato è {environment.location_status[position]}\")\n",
    "        \n",
    "            # esegui l'azione\n",
    "            if action == 'Aspira':\n",
    "                print(\"Azione: Aspirare\")\n",
    "                environment.location_status[position] = 'Pulito'\n",
    "            elif action == \"Destra\":\n",
    "                print(\"Azione: Muoversi a destra\")\n",
    "                position = 'B'\n",
    "            elif action == \"Sinistra\":\n",
    "                print(\"Azione: Muoversi a sinistra\")\n",
    "                position = 'A'\n",
    "            \n",
    "            print(f\"Stato aggiornato dell'ambiente: {environment.location_status}\")\n",
    "            \n",
    "            # aggiunta statto corrente in explored\n",
    "            explored.add(current_state)\n",
    "            \n",
    "            # se entrambe le posizioni sono pulite, restituisce il successo\n",
    "            if environment.location_status['A'] == 'Pulito' and environment.location_status['B'] == 'Pulito':\n",
    "                print(\"L'ambiente è pulito, l'agente si ferma.\")\n",
    "                return \n",
    "            \n",
    "            # genera nuovi stati da esplorare\n",
    "            next_state = (position, environment.location_status[position])\n",
    "            \n",
    "            # se il nuovo stato non è già stato esplorato, è aggiunto a horizon\n",
    "            if next_state not in explored:\n",
    "                horizon.append(next_state)\n",
    "                \n",
    "        # se non ci sono più stati da esplorare, significa che non è stata trovata una soluzione\n",
    "        print(\"Non ci sono soluzioni.\")\n",
    "        return "
   ],
   "id": "d9b7f6b52be8b0ec",
   "outputs": [],
   "execution_count": 8
  },
  {
   "metadata": {
    "ExecuteTime": {
     "end_time": "2024-09-26T14:01:05.581060Z",
     "start_time": "2024-09-26T14:01:05.566589Z"
    }
   },
   "cell_type": "code",
   "source": [
    "# funzione principale per simulare l'agente\n",
    "def run_ReactiveAgentVacuum():\n",
    "    # inizializzazione ambiente e agente\n",
    "    env = Environment()\n",
    "    agent = ReactiveAgentVacuum()\n",
    "    \n",
    "    # stato iniziale: posizione A e stato attuale di A\n",
    "    initial_state = ('A', env.location_status['A'])\n",
    "    \n",
    "    # avvia la ricerca dello state space\n",
    "    agent.search(initial_state, env)"
   ],
   "id": "3cfedec9f7a0dbe",
   "outputs": [],
   "execution_count": 9
  },
  {
   "metadata": {
    "ExecuteTime": {
     "end_time": "2024-09-26T14:01:06.505034Z",
     "start_time": "2024-09-26T14:01:06.499319Z"
    }
   },
   "cell_type": "code",
   "source": [
    "# per eseguire simulazione\n",
    "run_ReactiveAgentVacuum()\n",
    "    "
   ],
   "id": "dbca7cf50c507573",
   "outputs": [
    {
     "name": "stdout",
     "output_type": "stream",
     "text": [
      "Agente è in A, lo stato è Sporco\n",
      "Azione: Aspirare\n",
      "Stato aggiornato dell'ambiente: {'A': 'Pulito', 'B': 'Sporco'}\n",
      "Agente è in A, lo stato è Pulito\n",
      "Azione: Muoversi a destra\n",
      "Stato aggiornato dell'ambiente: {'A': 'Pulito', 'B': 'Sporco'}\n",
      "Agente è in B, lo stato è Sporco\n",
      "Azione: Aspirare\n",
      "Stato aggiornato dell'ambiente: {'A': 'Pulito', 'B': 'Pulito'}\n",
      "L'ambiente è pulito, l'agente si ferma.\n"
     ]
    }
   ],
   "execution_count": 10
  },
  {
   "metadata": {
    "ExecuteTime": {
     "end_time": "2024-09-26T13:35:16.664644Z",
     "start_time": "2024-09-26T13:35:16.660266Z"
    }
   },
   "cell_type": "code",
   "source": "",
   "id": "30f80045b685adbe",
   "outputs": [],
   "execution_count": 5
  }
 ],
 "metadata": {
  "kernelspec": {
   "display_name": "Python 3",
   "language": "python",
   "name": "python3"
  },
  "language_info": {
   "codemirror_mode": {
    "name": "ipython",
    "version": 2
   },
   "file_extension": ".py",
   "mimetype": "text/x-python",
   "name": "python",
   "nbconvert_exporter": "python",
   "pygments_lexer": "ipython2",
   "version": "2.7.6"
  }
 },
 "nbformat": 4,
 "nbformat_minor": 5
}
